{
  "nbformat": 4,
  "nbformat_minor": 0,
  "metadata": {
    "colab": {
      "provenance": [],
      "authorship_tag": "ABX9TyMYa9mdJs2vsceXvqaVFrW8",
      "include_colab_link": true
    },
    "kernelspec": {
      "name": "python3",
      "display_name": "Python 3"
    },
    "language_info": {
      "name": "python"
    },
    "accelerator": "GPU"
  },
  "cells": [
    {
      "cell_type": "markdown",
      "metadata": {
        "id": "view-in-github",
        "colab_type": "text"
      },
      "source": [
        "<a href=\"https://colab.research.google.com/github/junkyuhufs/Class2023Spring/blob/main/class1%262.ipynb\" target=\"_parent\"><img src=\"https://colab.research.google.com/assets/colab-badge.svg\" alt=\"Open In Colab\"/></a>"
      ]
    },
    {
      "cell_type": "markdown",
      "source": [
        "by virtue of Dr. Hosung Nam (Korea Univ.)"
      ],
      "metadata": {
        "id": "imXBIs83iVge"
      }
    },
    {
      "cell_type": "markdown",
      "source": [
        "#String & List review"
      ],
      "metadata": {
        "id": "dqirTiaQHDu9"
      }
    },
    {
      "cell_type": "code",
      "source": [
        "s = 'abcdef'\n",
        "print(type(s))"
      ],
      "metadata": {
        "id": "jgR3p0_XIlZx"
      },
      "execution_count": null,
      "outputs": []
    },
    {
      "cell_type": "code",
      "execution_count": 2,
      "metadata": {
        "id": "BZG-kkwTGpWA",
        "outputId": "2c59c77a-4d3b-4d15-dc82-c0bea39fee05",
        "colab": {
          "base_uri": "https://localhost:8080/"
        }
      },
      "outputs": [
        {
          "output_type": "stream",
          "name": "stdout",
          "text": [
            "a f f a\n",
            "bc bcdef abc abcdef\n"
          ]
        }
      ],
      "source": [
        "print(s[0], s[5], s[-1], s[-6])\n",
        "print(s[1:3], s[1:], s[:3], s[:])"
      ]
    },
    {
      "cell_type": "code",
      "source": [
        "n = [100, 200, 300]\n",
        "print(type(n))"
      ],
      "metadata": {
        "id": "8Ih6XD4PI04f",
        "outputId": "c4c2a3af-ff64-40c9-dda0-b79363f25f43",
        "colab": {
          "base_uri": "https://localhost:8080/"
        }
      },
      "execution_count": 3,
      "outputs": [
        {
          "output_type": "stream",
          "name": "stdout",
          "text": [
            "<class 'list'>\n"
          ]
        }
      ]
    },
    {
      "cell_type": "code",
      "source": [
        "print(n[0], n[2], n[-1], n[-3])\n",
        "print(n[1:2], n[1:], n[:2], n[:])"
      ],
      "metadata": {
        "id": "rl6SCJwAHRB4",
        "outputId": "4fc254ab-36f6-4a65-b69c-608eb17b330a",
        "colab": {
          "base_uri": "https://localhost:8080/"
        }
      },
      "execution_count": 4,
      "outputs": [
        {
          "output_type": "stream",
          "name": "stdout",
          "text": [
            "100 300 300 100\n",
            "[200] [200, 300] [100, 200] [100, 200, 300]\n"
          ]
        }
      ]
    },
    {
      "cell_type": "code",
      "source": [
        "len(s)"
      ],
      "metadata": {
        "id": "7OmRbwoIHeAz",
        "outputId": "dc632fc7-fb8c-4d6e-bd56-72b06b8fb4f4",
        "colab": {
          "base_uri": "https://localhost:8080/"
        }
      },
      "execution_count": 5,
      "outputs": [
        {
          "output_type": "execute_result",
          "data": {
            "text/plain": [
              "6"
            ]
          },
          "metadata": {},
          "execution_count": 5
        }
      ]
    },
    {
      "cell_type": "code",
      "source": [
        "s[1]+s[3]+s[4:]*10"
      ],
      "metadata": {
        "id": "GelaSzRoHlMA",
        "outputId": "220264e1-d91b-47fa-a74e-a906a9a2e353",
        "colab": {
          "base_uri": "https://localhost:8080/",
          "height": 35
        }
      },
      "execution_count": 6,
      "outputs": [
        {
          "output_type": "execute_result",
          "data": {
            "text/plain": [
              "'bdefefefefefefefefefef'"
            ],
            "application/vnd.google.colaboratory.intrinsic+json": {
              "type": "string"
            }
          },
          "metadata": {},
          "execution_count": 6
        }
      ]
    },
    {
      "cell_type": "code",
      "source": [
        "s.upper()"
      ],
      "metadata": {
        "id": "sU0WRlAnHnzD",
        "outputId": "2c640c4c-38b4-4f8d-ff54-0a780231b0ba",
        "colab": {
          "base_uri": "https://localhost:8080/",
          "height": 35
        }
      },
      "execution_count": 7,
      "outputs": [
        {
          "output_type": "execute_result",
          "data": {
            "text/plain": [
              "'ABCDEF'"
            ],
            "application/vnd.google.colaboratory.intrinsic+json": {
              "type": "string"
            }
          },
          "metadata": {},
          "execution_count": 7
        }
      ]
    },
    {
      "cell_type": "code",
      "source": [
        "k = ' this is a house built this year.\\n' \t\n",
        "k"
      ],
      "metadata": {
        "id": "nPM4U2BrHx5c",
        "outputId": "b7191e78-cf35-4739-f385-cda8529ec2a8",
        "colab": {
          "base_uri": "https://localhost:8080/",
          "height": 35
        }
      },
      "execution_count": 8,
      "outputs": [
        {
          "output_type": "execute_result",
          "data": {
            "text/plain": [
              "' this is a house built this year.\\n'"
            ],
            "application/vnd.google.colaboratory.intrinsic+json": {
              "type": "string"
            }
          },
          "metadata": {},
          "execution_count": 8
        }
      ]
    },
    {
      "cell_type": "code",
      "source": [
        "result = k.find('house') \t    # index of first instance of string; return index\n",
        "result"
      ],
      "metadata": {
        "id": "g8H5FjaIIBP2",
        "outputId": "ee4034fb-aad6-4cfa-fd6d-9cc5c3e6ce8f",
        "colab": {
          "base_uri": "https://localhost:8080/"
        }
      },
      "execution_count": 9,
      "outputs": [
        {
          "output_type": "execute_result",
          "data": {
            "text/plain": [
              "11"
            ]
          },
          "metadata": {},
          "execution_count": 9
        }
      ]
    },
    {
      "cell_type": "code",
      "source": [
        "result = k.find('this')\t      # index of first instance of string; return index \n",
        "result"
      ],
      "metadata": {
        "id": "g5Zcx120ILwi",
        "outputId": "f5721a2c-feba-4d7f-881a-231acbc7e3df",
        "colab": {
          "base_uri": "https://localhost:8080/"
        }
      },
      "execution_count": 10,
      "outputs": [
        {
          "output_type": "execute_result",
          "data": {
            "text/plain": [
              "1"
            ]
          },
          "metadata": {},
          "execution_count": 10
        }
      ]
    },
    {
      "cell_type": "code",
      "source": [
        "j = k.strip()      \t          # a copy of s without leading or trailing whitespace\n",
        "j"
      ],
      "metadata": {
        "id": "cx-PZI5yJOIg",
        "outputId": "aca5d539-63ee-4d30-ca02-26d66a8507da",
        "colab": {
          "base_uri": "https://localhost:8080/",
          "height": 35
        }
      },
      "execution_count": 11,
      "outputs": [
        {
          "output_type": "execute_result",
          "data": {
            "text/plain": [
              "'this is a house built this year.'"
            ],
            "application/vnd.google.colaboratory.intrinsic+json": {
              "type": "string"
            }
          },
          "metadata": {},
          "execution_count": 11
        }
      ]
    },
    {
      "cell_type": "code",
      "source": [
        "tokens = j.split(' ')\t        # split s into a list  (whitespace by default)\n",
        "tokens"
      ],
      "metadata": {
        "id": "BU-o2-XTJZhp",
        "outputId": "d3b49622-b770-4b2b-c40e-af4ceff5b045",
        "colab": {
          "base_uri": "https://localhost:8080/"
        }
      },
      "execution_count": 12,
      "outputs": [
        {
          "output_type": "execute_result",
          "data": {
            "text/plain": [
              "['this', 'is', 'a', 'house', 'built', 'this', 'year.']"
            ]
          },
          "metadata": {},
          "execution_count": 12
        }
      ]
    },
    {
      "cell_type": "code",
      "source": [
        "m = ' '.join(tokens)\t        # combine the words of the text into a string using m as the glue\n",
        "m"
      ],
      "metadata": {
        "id": "ZBN79l-DJhBH",
        "outputId": "7106925c-e6c6-4fbd-e8d9-5a53107d8dda",
        "colab": {
          "base_uri": "https://localhost:8080/",
          "height": 35
        }
      },
      "execution_count": 13,
      "outputs": [
        {
          "output_type": "execute_result",
          "data": {
            "text/plain": [
              "'this is a house built this year.'"
            ],
            "application/vnd.google.colaboratory.intrinsic+json": {
              "type": "string"
            }
          },
          "metadata": {},
          "execution_count": 13
        }
      ]
    },
    {
      "cell_type": "code",
      "source": [
        "v = m.replace('this', 'that') # replace instances of t with u inside m\n",
        "v"
      ],
      "metadata": {
        "id": "y4NRMZg4Jvkn",
        "outputId": "1445cbd9-1265-4082-82a5-7fe0a604a5da",
        "colab": {
          "base_uri": "https://localhost:8080/",
          "height": 35
        }
      },
      "execution_count": 14,
      "outputs": [
        {
          "output_type": "execute_result",
          "data": {
            "text/plain": [
              "'that is a house built that year.'"
            ],
            "application/vnd.google.colaboratory.intrinsic+json": {
              "type": "string"
            }
          },
          "metadata": {},
          "execution_count": 14
        }
      ]
    },
    {
      "cell_type": "markdown",
      "source": [
        "#Function\n",
        "\n",
        "def 함수명 (입력변수1 ... 입력변수 n)\n",
        "\n",
        "return 출력변수"
      ],
      "metadata": {
        "id": "8phI9ckGKPVw"
      }
    },
    {
      "cell_type": "code",
      "source": [
        "def add(a,b):\n",
        "  return a+b\n",
        "\n",
        "def subtract(a,b):\n",
        "  return a-b\n",
        "\n",
        "def multiply(a,b):\n",
        "  return a*b\n",
        "\n",
        "def divide(a,b):\n",
        "  return a/b"
      ],
      "metadata": {
        "id": "bxRmnCcmKeG9"
      },
      "execution_count": 15,
      "outputs": []
    },
    {
      "cell_type": "code",
      "source": [
        "c = add(1,2); print(c)\n",
        "c = subtract(1,2); print(c)\n",
        "c = multiply(1,2); print(c)\n",
        "c = divide(1,2); print(c)"
      ],
      "metadata": {
        "id": "tIYNELg9Kl4n",
        "outputId": "5e429395-8b2f-41f9-d01a-ba591be25c53",
        "colab": {
          "base_uri": "https://localhost:8080/"
        }
      },
      "execution_count": 16,
      "outputs": [
        {
          "output_type": "stream",
          "name": "stdout",
          "text": [
            "3\n",
            "-1\n",
            "2\n",
            "0.5\n"
          ]
        }
      ]
    },
    {
      "cell_type": "markdown",
      "source": [
        "#Syntax"
      ],
      "metadata": {
        "id": "qPUzlJLiNHjC"
      }
    },
    {
      "cell_type": "markdown",
      "source": [
        "##for 반복문\n",
        "\n",
        "**for** i **in** a:  >>> list a에 있는 것을 i로 처음부터 하나하나씩 받아서 실행 "
      ],
      "metadata": {
        "id": "LJzzIpRYNSrf"
      }
    },
    {
      "cell_type": "code",
      "source": [
        "a = [1, 2, 3, 4]\n",
        "for i in a:\n",
        "    print(i)"
      ],
      "metadata": {
        "id": "VkGU_qUbNVx4",
        "outputId": "6b71a09d-1cc7-4955-9a99-ac20f23f9533",
        "colab": {
          "base_uri": "https://localhost:8080/"
        }
      },
      "execution_count": 29,
      "outputs": [
        {
          "output_type": "stream",
          "name": "stdout",
          "text": [
            "1\n",
            "2\n",
            "3\n",
            "4\n"
          ]
        }
      ]
    },
    {
      "cell_type": "markdown",
      "source": [
        "**for** i ***in*** *range*(4): >>> 이 형식에서 range(4)는 [0, 1, 2, 3]의 list와 동일"
      ],
      "metadata": {
        "id": "N-FZA1uuP4dH"
      }
    },
    {
      "cell_type": "code",
      "source": [
        "a = [1, 2, 3, 4]\n",
        "for i in range(4):\n",
        "    print(a[i])"
      ],
      "metadata": {
        "id": "Us8Z-uIuOa8a",
        "outputId": "2f24e7ec-c811-4c24-e870-e4865177b17a",
        "colab": {
          "base_uri": "https://localhost:8080/"
        }
      },
      "execution_count": 30,
      "outputs": [
        {
          "output_type": "stream",
          "name": "stdout",
          "text": [
            "1\n",
            "2\n",
            "3\n",
            "4\n"
          ]
        }
      ]
    },
    {
      "cell_type": "markdown",
      "source": [
        "**for** i **in** *range(len(s))*: >>> 이 형식에서 range(len(a))는 a의 list 길이만큼의 인덱스 list를 만듬"
      ],
      "metadata": {
        "id": "sSRkpE1ARTOj"
      }
    },
    {
      "cell_type": "code",
      "source": [
        "a = [1, 2, 3, 4]\n",
        "for i in range(len(a)):\n",
        "    print(a[i])"
      ],
      "metadata": {
        "id": "YGdr3PzRNa9F",
        "outputId": "0fcae1a1-1597-4daf-e4ba-3434aab42f9a",
        "colab": {
          "base_uri": "https://localhost:8080/"
        }
      },
      "execution_count": 31,
      "outputs": [
        {
          "output_type": "stream",
          "name": "stdout",
          "text": [
            "1\n",
            "2\n",
            "3\n",
            "4\n"
          ]
        }
      ]
    },
    {
      "cell_type": "code",
      "source": [
        "a = ['red', 'green', 'blue', 'purple']\n",
        "for i in a:\n",
        "    print(i)"
      ],
      "metadata": {
        "id": "K8lXCIY2NkrZ",
        "outputId": "6dd6ced8-b152-489e-c6f6-a252fd41d5e9",
        "colab": {
          "base_uri": "https://localhost:8080/"
        }
      },
      "execution_count": 32,
      "outputs": [
        {
          "output_type": "stream",
          "name": "stdout",
          "text": [
            "red\n",
            "green\n",
            "blue\n",
            "purple\n"
          ]
        }
      ]
    },
    {
      "cell_type": "code",
      "source": [
        "a = ['red', 'green', 'blue', 'purple']\n",
        "for i in range(len(a)):\n",
        "    print(a[i])"
      ],
      "metadata": {
        "id": "uPnHjPEZNpGn",
        "outputId": "a4c72a06-d26a-4340-a85b-b29ae7215ba3",
        "colab": {
          "base_uri": "https://localhost:8080/"
        }
      },
      "execution_count": 33,
      "outputs": [
        {
          "output_type": "stream",
          "name": "stdout",
          "text": [
            "red\n",
            "green\n",
            "blue\n",
            "purple\n"
          ]
        }
      ]
    },
    {
      "cell_type": "markdown",
      "source": [
        "##if 조건문"
      ],
      "metadata": {
        "id": "Xe_FyvONShcT"
      }
    },
    {
      "cell_type": "code",
      "source": [
        "a = 0\n",
        "if a == 0:\n",
        "    print(a)\n",
        "else:\n",
        "    print(a+1)"
      ],
      "metadata": {
        "id": "dA34zJJzNtU-",
        "outputId": "9acb3fca-e648-4578-9787-776c6b46c020",
        "colab": {
          "base_uri": "https://localhost:8080/"
        }
      },
      "execution_count": 34,
      "outputs": [
        {
          "output_type": "stream",
          "name": "stdout",
          "text": [
            "0\n"
          ]
        }
      ]
    },
    {
      "cell_type": "code",
      "source": [
        "a = 0\n",
        "if a != 0:\n",
        "    print(a)\n",
        "else:\n",
        "    print(a+1)"
      ],
      "metadata": {
        "id": "_QL4n_Z0Nycu",
        "outputId": "a805a308-3c13-4366-a72f-98afcd5fd02c",
        "colab": {
          "base_uri": "https://localhost:8080/"
        }
      },
      "execution_count": 35,
      "outputs": [
        {
          "output_type": "stream",
          "name": "stdout",
          "text": [
            "1\n"
          ]
        }
      ]
    },
    {
      "cell_type": "markdown",
      "source": [
        "for i in range(1, 3) >>> range(1, 3) = [1, 2]  (range의 첫번째 거 포함; range의 두번째것 비포함) \n",
        "\n",
        "for i in range(3, 5) >>> range(3, 5) = [3, 4] "
      ],
      "metadata": {
        "id": "BTCWpE13S86F"
      }
    },
    {
      "cell_type": "code",
      "source": [
        "for i in range(1, 3):\n",
        "    for j in range(3, 5):\n",
        "        print(i*j)"
      ],
      "metadata": {
        "id": "rw8dYlNVN5S_",
        "outputId": "493044a6-1cfb-4dae-c105-938f6a53d33e",
        "colab": {
          "base_uri": "https://localhost:8080/"
        }
      },
      "execution_count": 36,
      "outputs": [
        {
          "output_type": "stream",
          "name": "stdout",
          "text": [
            "3\n",
            "4\n",
            "6\n",
            "8\n"
          ]
        }
      ]
    },
    {
      "cell_type": "code",
      "source": [
        "for i in range(1, 3):\n",
        "    for j in range(3, 5):\n",
        "        if j >=4:\n",
        "            print(i*j)"
      ],
      "metadata": {
        "id": "PFjZ9S3BN7oZ",
        "outputId": "6ccd0706-8630-4664-af82-a69e537ecece",
        "colab": {
          "base_uri": "https://localhost:8080/"
        }
      },
      "execution_count": 37,
      "outputs": [
        {
          "output_type": "stream",
          "name": "stdout",
          "text": [
            "4\n",
            "8\n"
          ]
        }
      ]
    },
    {
      "cell_type": "markdown",
      "source": [
        "##List comprehension"
      ],
      "metadata": {
        "id": "FkNaf71MUMFF"
      }
    },
    {
      "cell_type": "markdown",
      "source": [
        "(예) List 안쪽에 for문이 들어간 경우\n",
        "\n",
        "b = [i for i in a if i >=2] >> a에 있는 것을 하나하나씩 i로 반복해서 받고, if문을 실행"
      ],
      "metadata": {
        "id": "sYGqb7-tU6iN"
      }
    },
    {
      "cell_type": "code",
      "source": [
        "a = [1, 2, 3, 4]\n",
        "b = [i for i in a if i >=2]\n",
        "b"
      ],
      "metadata": {
        "id": "J6jFPlwKOCcj",
        "outputId": "e722c187-3417-4113-f354-c16dcb5746fd",
        "colab": {
          "base_uri": "https://localhost:8080/"
        }
      },
      "execution_count": 38,
      "outputs": [
        {
          "output_type": "execute_result",
          "data": {
            "text/plain": [
              "[2, 3, 4]"
            ]
          },
          "metadata": {},
          "execution_count": 38
        }
      ]
    },
    {
      "cell_type": "code",
      "source": [
        "a = ['red', 'green', 'blue', 'purple']\n",
        "b = [i for i in a if len(i) >=4]\n",
        "b"
      ],
      "metadata": {
        "id": "sTLoElg6OGev",
        "outputId": "bd535bc0-6d56-4676-b6aa-ff34315a8b5f",
        "colab": {
          "base_uri": "https://localhost:8080/"
        }
      },
      "execution_count": 39,
      "outputs": [
        {
          "output_type": "execute_result",
          "data": {
            "text/plain": [
              "['green', 'blue', 'purple']"
            ]
          },
          "metadata": {},
          "execution_count": 39
        }
      ]
    },
    {
      "cell_type": "markdown",
      "source": [
        "##Dict comprehension"
      ],
      "metadata": {
        "id": "bPFsoFi3URDe"
      }
    },
    {
      "cell_type": "markdown",
      "source": [
        "(예) Dict안에 for문이 있는 경우\n",
        "\n",
        "range(4) = [0, 1, 2, 3] ;; { a[0]: b[0], a[1]: b[1], ....}"
      ],
      "metadata": {
        "id": "m2NOEKAvVYSE"
      }
    },
    {
      "cell_type": "code",
      "source": [
        "a = ['red', 'green', 'blue', 'purple']\n",
        "b = [1, 2, 3, 4]\n",
        "c = {a[i]:b[i] for i in range(4)}\n",
        "c"
      ],
      "metadata": {
        "id": "eD3Y624JOIDV",
        "outputId": "6b04912f-4c3a-45a4-8d36-0da27ebce900",
        "colab": {
          "base_uri": "https://localhost:8080/"
        }
      },
      "execution_count": 40,
      "outputs": [
        {
          "output_type": "execute_result",
          "data": {
            "text/plain": [
              "{'red': 1, 'green': 2, 'blue': 3, 'purple': 4}"
            ]
          },
          "metadata": {},
          "execution_count": 40
        }
      ]
    },
    {
      "cell_type": "markdown",
      "source": [
        "#How to \"Import packages\""
      ],
      "metadata": {
        "id": "RUgnp6cWP4t_"
      }
    },
    {
      "cell_type": "markdown",
      "source": [
        "Pakckage 예시\n",
        "\n",
        "numpy; pandas; matplotlib; seaborn; sklearn; requests; urllib3; nltk; PIL; pytest; librosa"
      ],
      "metadata": {
        "id": "qIoU3x2aSgh8"
      }
    },
    {
      "cell_type": "code",
      "source": [
        "import numpy"
      ],
      "metadata": {
        "id": "-pW_jxvFR1Zx"
      },
      "execution_count": null,
      "outputs": []
    },
    {
      "cell_type": "code",
      "source": [
        "numpy.random.randn(5)"
      ],
      "metadata": {
        "id": "OA5pIHv0R4sR",
        "outputId": "d3d1d469-85ee-4568-d1bc-1916322e56bc",
        "colab": {
          "base_uri": "https://localhost:8080/"
        }
      },
      "execution_count": null,
      "outputs": [
        {
          "output_type": "execute_result",
          "data": {
            "text/plain": [
              "array([-3.03141606, -0.37282532, -0.32791668,  0.75792978, -0.81546052])"
            ]
          },
          "metadata": {},
          "execution_count": 7
        }
      ]
    },
    {
      "cell_type": "markdown",
      "source": [
        "##다양한 import packages 방법들"
      ],
      "metadata": {
        "id": "LtVAwN5qSPYT"
      }
    },
    {
      "cell_type": "code",
      "source": [
        "import numpy as np\n",
        "n = np.random.randn(100)"
      ],
      "metadata": {
        "id": "HXp80W0FQn7m"
      },
      "execution_count": null,
      "outputs": []
    },
    {
      "cell_type": "code",
      "source": [
        "import matplotlib\n",
        "matplotlib.pyplot.hist(n)"
      ],
      "metadata": {
        "id": "XYuNw2DqQxoN"
      },
      "execution_count": null,
      "outputs": []
    },
    {
      "cell_type": "code",
      "source": [
        "import matplotlib.pyplot\n",
        "matplotlib.pyplot.hist(n)"
      ],
      "metadata": {
        "id": "r_n83fu-RHWf"
      },
      "execution_count": null,
      "outputs": []
    },
    {
      "cell_type": "code",
      "source": [
        "import matplotlib.pyplot as plt\n",
        "plt.hist(n)"
      ],
      "metadata": {
        "id": "pc1NJVSXRKLG"
      },
      "execution_count": null,
      "outputs": []
    },
    {
      "cell_type": "markdown",
      "source": [
        "**from import**를 쓰면 **import as**처럼 축약해서 부를 수 있는 효과"
      ],
      "metadata": {
        "id": "dJUJ9mYLRbUS"
      }
    },
    {
      "cell_type": "code",
      "source": [
        "from matplotlib import pyplot\n",
        "pyplot.hist(n)"
      ],
      "metadata": {
        "id": "6vj129RVRdTc"
      },
      "execution_count": null,
      "outputs": []
    },
    {
      "cell_type": "code",
      "source": [
        "from matplotlib.pyplot import hist\n",
        "hist(n)"
      ],
      "metadata": {
        "id": "p7rC0-RMRhgf"
      },
      "execution_count": null,
      "outputs": []
    }
  ]
}